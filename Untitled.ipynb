{
 "cells": [
  {
   "cell_type": "code",
   "execution_count": 54,
   "metadata": {
    "collapsed": false
   },
   "outputs": [
    {
     "name": "stderr",
     "output_type": "stream",
     "text": [
      "WARNING: Method definition den(Array{Main.Base.Rational{#T<:Integer}, 1}) in module ApApproximation at /Users/darioprandi/Dropbox/Matematica/Projects/Neuro-Geometria/AP_interpolation/julia/ApApproximation.jl/src/bispectralset.jl:249 overwritten in module ApApproximation at /Users/darioprandi/Dropbox/Matematica/Projects/Neuro-Geometria/AP_interpolation/julia/ApApproximation.jl/src/bispectralset.jl:249.\n",
      "WARNING: Method definition gcd(Main.Base.Rational{#T<:Integer}, Main.Base.Rational{#T<:Integer}) in module ApApproximation at /Users/darioprandi/Dropbox/Matematica/Projects/Neuro-Geometria/AP_interpolation/julia/ApApproximation.jl/src/bispectralset.jl:255 overwritten in module ApApproximation at /Users/darioprandi/Dropbox/Matematica/Projects/Neuro-Geometria/AP_interpolation/julia/ApApproximation.jl/src/bispectralset.jl:255.\n",
      "WARNING: Method definition gcd(#T<:Real, #T<:Real) in module ApApproximation at /Users/darioprandi/Dropbox/Matematica/Projects/Neuro-Geometria/AP_interpolation/julia/ApApproximation.jl/src/bispectralset.jl:258 overwritten in module ApApproximation at /Users/darioprandi/Dropbox/Matematica/Projects/Neuro-Geometria/AP_interpolation/julia/ApApproximation.jl/src/bispectralset.jl:258.\n",
      "WARNING: Method definition gcd(Main.Base.Rational{#R<:Integer}, #T<:Real) in module ApApproximation at /Users/darioprandi/Dropbox/Matematica/Projects/Neuro-Geometria/AP_interpolation/julia/ApApproximation.jl/src/bispectralset.jl:259 overwritten in module ApApproximation at /Users/darioprandi/Dropbox/Matematica/Projects/Neuro-Geometria/AP_interpolation/julia/ApApproximation.jl/src/bispectralset.jl:259.\n",
      "WARNING: Method definition cov(AbstractArray{T<:Any, 1}, AbstractArray{T<:Any, 1}, Bool) in module Compat at /Users/darioprandi/.julia/v0.4/Compat/src/Compat.jl:941 overwritten in module Compat at /Users/darioprandi/.julia/v0.4/Compat/src/Compat.jl:941.\n",
      "WARNING: Method definition cov(AbstractArray{T<:Any, 2}, AbstractArray{T<:Any, 2}, Integer) in module Compat at /Users/darioprandi/.julia/v0.4/Compat/src/Compat.jl:942 overwritten in module Compat at /Users/darioprandi/.julia/v0.4/Compat/src/Compat.jl:942.\n",
      "WARNING: Method definition cov(AbstractArray{T<:Any, 2}, AbstractArray{T<:Any, 2}, Integer, Bool) in module Compat at /Users/darioprandi/.julia/v0.4/Compat/src/Compat.jl:943 overwritten in module Compat at /Users/darioprandi/.julia/v0.4/Compat/src/Compat.jl:943.\n",
      "WARNING: Method definition cov(AbstractArray{T<:Any, 1}, Bool) in module Compat at /Users/darioprandi/.julia/v0.4/Compat/src/Compat.jl:938 overwritten in module Compat at /Users/darioprandi/.julia/v0.4/Compat/src/Compat.jl:938.\n",
      "WARNING: Method definition cov(AbstractArray{T<:Any, 2}, Integer) in module Compat at /Users/darioprandi/.julia/v0.4/Compat/src/Compat.jl:939 overwritten in module Compat at /Users/darioprandi/.julia/v0.4/Compat/src/Compat.jl:939.\n",
      "WARNING: Method definition cov(AbstractArray{T<:Any, 2}, Integer, Bool) in module Compat at /Users/darioprandi/.julia/v0.4/Compat/src/Compat.jl:940 overwritten in module Compat at /Users/darioprandi/.julia/v0.4/Compat/src/Compat.jl:940.\n",
      "WARNING: Method definition write(Main.Base.IO, Main.Base.IO) in module Compat at /Users/darioprandi/.julia/v0.4/Compat/src/Compat.jl:967 overwritten in module Compat at /Users/darioprandi/.julia/v0.4/Compat/src/Compat.jl:967.\n",
      "WARNING: Method definition write(AbstractString, Any...) in module Compat at /Users/darioprandi/.julia/v0.4/Compat/src/Compat.jl:956 overwritten in module Compat at /Users/darioprandi/.julia/v0.4/Compat/src/Compat.jl:956.\n",
      "WARNING: Method definition readline(AbstractString) in module Compat at /Users/darioprandi/.julia/v0.4/Compat/src/Compat.jl:961 overwritten in module Compat at /Users/darioprandi/.julia/v0.4/Compat/src/Compat.jl:961.\n",
      "WARNING: Method definition read(Main.Base.IO) in module Compat at /Users/darioprandi/.julia/v0.4/Compat/src/Compat.jl:953 overwritten in module Compat at /Users/darioprandi/.julia/v0.4/Compat/src/Compat.jl:953.\n",
      "WARNING: Method definition read(Main.Base.IO, Any) in module Compat at /Users/darioprandi/.julia/v0.4/Compat/src/Compat.jl:954 overwritten in module Compat at /Users/darioprandi/.julia/v0.4/Compat/src/Compat.jl:954.\n",
      "WARNING: Method definition read(AbstractString, Any...) in module Compat at /Users/darioprandi/.julia/v0.4/Compat/src/Compat.jl:958 overwritten in module Compat at /Users/darioprandi/.julia/v0.4/Compat/src/Compat.jl:958.\n",
      "WARNING: Method definition call(Type{Union{UTF8String, ASCIIString}}, Main.Base.Cstring) in module Compat at /Users/darioprandi/.julia/v0.4/Compat/src/Compat.jl:32 overwritten in module Compat at /Users/darioprandi/.julia/v0.4/Compat/src/Compat.jl:32.\n",
      "WARNING: Method definition call(Type{Union{UTF8String, ASCIIString}}, Array{UInt8, 1}) in module Compat at /Users/darioprandi/.julia/v0.4/Compat/src/Compat.jl:33 overwritten in module Compat at /Users/darioprandi/.julia/v0.4/Compat/src/Compat.jl:33.\n",
      "WARNING: Method definition call(Type{Union{UTF8String, ASCIIString}}, Main.Base.AbstractIOBuffer{T<:AbstractArray{UInt8, 1}}) in module Compat at /Users/darioprandi/.julia/v0.4/Compat/src/Compat.jl:34 overwritten in module Compat at /Users/darioprandi/.julia/v0.4/Compat/src/Compat.jl:34.\n",
      "WARNING: Method definition call(Type{Union{UTF8String, ASCIIString}}, Union{Ptr{UInt8}, Ptr{Int8}}) in module Compat at /Users/darioprandi/.julia/v0.4/Compat/src/Compat.jl:35 overwritten in module Compat at /Users/darioprandi/.julia/v0.4/Compat/src/Compat.jl:35.\n",
      "WARNING: Method definition call(Type{Union{UTF8String, ASCIIString}}, Union{Ptr{UInt8}, Ptr{Int8}}, Integer) in module Compat at /Users/darioprandi/.julia/v0.4/Compat/src/Compat.jl:36 overwritten in module Compat at /Users/darioprandi/.julia/v0.4/Compat/src/Compat.jl:36.\n",
      "WARNING: Method definition call(Type{Union{UTF8String, ASCIIString}}, AbstractString) in module Compat at /Users/darioprandi/.julia/v0.4/Compat/src/Compat.jl:37 overwritten in module Compat at /Users/darioprandi/.julia/v0.4/Compat/src/Compat.jl:37.\n",
      "WARNING: Method definition call(Type{Symbol}, Any...) in module Compat at /Users/darioprandi/.julia/v0.4/Compat/src/Compat.jl:456 overwritten in module Compat at /Users/darioprandi/.julia/v0.4/Compat/src/Compat.jl:456.\n",
      "WARNING: Method definition remotecall_fetch(Function, Main.Base.LocalProcess, Any...) in module Compat at /Users/darioprandi/.julia/v0.4/Compat/src/Compat.jl:880 overwritten in module Compat at /Users/darioprandi/.julia/v0.4/Compat/src/Compat.jl:880.\n",
      "WARNING: Method definition remotecall_fetch(Function, Main.Base.Worker, Any...) in module Compat at /Users/darioprandi/.julia/v0.4/Compat/src/Compat.jl:881 overwritten in module Compat at /Users/darioprandi/.julia/v0.4/Compat/src/Compat.jl:881.\n",
      "WARNING: Method definition remotecall_fetch(Function, Integer, Any...) in module Compat at /Users/darioprandi/.julia/v0.4/Compat/src/Compat.jl:882 overwritten in module Compat at /Users/darioprandi/.julia/v0.4/Compat/src/Compat.jl:882.\n",
      "WARNING: Method definition readavailable(Main.Base.IOStream) in module Compat at /Users/darioprandi/.julia/v0.4/Compat/src/Compat.jl:963 overwritten in module Compat at /Users/darioprandi/.julia/v0.4/Compat/src/Compat.jl:963.\n",
      "WARNING: Method definition readavailable(Main.Base.AbstractIOBuffer{Array{UInt8, 1}}) in module Compat at /Users/darioprandi/.julia/v0.4/Compat/src/Compat.jl:964 overwritten in module Compat at /Users/darioprandi/.julia/v0.4/Compat/src/Compat.jl:964.\n",
      "WARNING: Method definition readuntil(AbstractString, Any...) in module Compat at /Users/darioprandi/.julia/v0.4/Compat/src/Compat.jl:960 overwritten in module Compat at /Users/darioprandi/.julia/v0.4/Compat/src/Compat.jl:960.\n",
      "WARNING: Method definition readlines(AbstractString) in module Compat at /Users/darioprandi/.julia/v0.4/Compat/src/Compat.jl:962 overwritten in module Compat at /Users/darioprandi/.julia/v0.4/Compat/src/Compat.jl:962.\n",
      "WARNING: Method definition precision(Type{Main.Base.MPFR.BigFloat}) in module Compat at /Users/darioprandi/.julia/v0.4/Compat/src/Compat.jl:1004 overwritten in module Compat at /Users/darioprandi/.julia/v0.4/Compat/src/Compat.jl:1004.\n",
      "WARNING: Method definition remotecall_wait(Function, Main.Base.LocalProcess, Any...) in module Compat at /Users/darioprandi/.julia/v0.4/Compat/src/Compat.jl:880 overwritten in module Compat at /Users/darioprandi/.julia/v0.4/Compat/src/Compat.jl:880.\n",
      "WARNING: Method definition remotecall_wait(Function, Main.Base.Worker, Any...) in module Compat at /Users/darioprandi/.julia/v0.4/Compat/src/Compat.jl:881 overwritten in module Compat at /Users/darioprandi/.julia/v0.4/Compat/src/Compat.jl:881.\n",
      "WARNING: Method definition remotecall_wait(Function, Integer, Any...) in module Compat at /Users/darioprandi/.julia/v0.4/Compat/src/Compat.jl:882 overwritten in module Compat at /Users/darioprandi/.julia/v0.4/Compat/src/Compat.jl:882.\n",
      "WARNING: Method definition cor(AbstractArray{T<:Any, 2}, AbstractArray{T<:Any, 2}, Integer) in module Compat at /Users/darioprandi/.julia/v0.4/Compat/src/Compat.jl:946 overwritten in module Compat at /Users/darioprandi/.julia/v0.4/Compat/src/Compat.jl:946.\n",
      "WARNING: Method definition cor(AbstractArray{T<:Any, 2}, Integer) in module Compat at /Users/darioprandi/.julia/v0.4/Compat/src/Compat.jl:945 overwritten in module Compat at /Users/darioprandi/.julia/v0.4/Compat/src/Compat.jl:945.\n",
      "WARNING: Method definition read!(AbstractString, Any) in module Compat at /Users/darioprandi/.julia/v0.4/Compat/src/Compat.jl:959 overwritten in module Compat at /Users/darioprandi/.julia/v0.4/Compat/src/Compat.jl:959.\n",
      "WARNING: Method definition remote_do(Function, Main.Base.LocalProcess, Any...) in module Compat at /Users/darioprandi/.julia/v0.4/Compat/src/Compat.jl:880 overwritten in module Compat at /Users/darioprandi/.julia/v0.4/Compat/src/Compat.jl:880.\n",
      "WARNING: Method definition remote_do(Function, Main.Base.Worker, Any...) in module Compat at /Users/darioprandi/.julia/v0.4/Compat/src/Compat.jl:881 overwritten in module Compat at /Users/darioprandi/.julia/v0.4/Compat/src/Compat.jl:881.\n",
      "WARNING: Method definition remote_do(Function, Integer, Any...) in module Compat at /Users/darioprandi/.julia/v0.4/Compat/src/Compat.jl:882 overwritten in module Compat at /Users/darioprandi/.julia/v0.4/Compat/src/Compat.jl:882.\n",
      "WARNING: Method definition eachline(AbstractString) in module Compat at /Users/darioprandi/.julia/v0.4/Compat/src/Compat.jl:973 overwritten in module Compat at /Users/darioprandi/.julia/v0.4/Compat/src/Compat.jl:973.\n",
      "WARNING: Method definition remotecall(Function, Main.Base.LocalProcess, Any...) in module Compat at /Users/darioprandi/.julia/v0.4/Compat/src/Compat.jl:880 overwritten in module Compat at /Users/darioprandi/.julia/v0.4/Compat/src/Compat.jl:880.\n",
      "WARNING: Method definition remotecall(Function, Main.Base.Worker, Any...) in module Compat at /Users/darioprandi/.julia/v0.4/Compat/src/Compat.jl:881 overwritten in module Compat at /Users/darioprandi/.julia/v0.4/Compat/src/Compat.jl:881.\n",
      "WARNING: Method definition remotecall(Function, Integer, Any...) in module Compat at /Users/darioprandi/.julia/v0.4/Compat/src/Compat.jl:882 overwritten in module Compat at /Users/darioprandi/.julia/v0.4/Compat/src/Compat.jl:882.\n"
     ]
    }
   ],
   "source": [
    "workspace()\n",
    "\n",
    "push!(LOAD_PATH, \"./src/\")\n",
    "\n",
    "using ApApproximation"
   ]
  },
  {
   "cell_type": "code",
   "execution_count": 55,
   "metadata": {
    "collapsed": false
   },
   "outputs": [
    {
     "name": "stdout",
     "output_type": "stream",
     "text": [
      "Array{ApApproximation.Frequency{10,Float64},1}\n"
     ]
    }
   ],
   "source": [
    "x = Frequency(1., .5, 10)\n",
    "y = Frequency(1., .9, 10)\n",
    "z = Frequency(1., .1, 10)\n",
    "\n",
    "v = Frequency{10, Float64}[Frequency(rand(), rand(), 10) for i in 1:100]\n",
    "\n",
    "typeof(v) |> println\n",
    "@which BispectralSet{10, Float64}(v)\n",
    "\n",
    "E = BispectralSet(v);"
   ]
  },
  {
   "cell_type": "code",
   "execution_count": 56,
   "metadata": {
    "collapsed": false
   },
   "outputs": [],
   "source": [
    "for i in 1:size(E,1), j in 1:size(E,2)\n",
    "    h,k = findin(E[i,j],E)\n",
    "    if  (h,k) != (i,j)\n",
    "        println(\"$h, $k != $i, $j\")\n",
    "    end\n",
    "end"
   ]
  },
  {
   "cell_type": "code",
   "execution_count": 24,
   "metadata": {
    "collapsed": false
   },
   "outputs": [
    {
     "data": {
      "text/html": [
       "6 methods for generic function <b>findin</b>:<ul><li> findin<i>{T1<:Integer,T2<:Integer}</i>(r::<b>UnitRange{T1<:Integer}</b>, span::<b>UnitRange{T2<:Integer}</b>) at <a href=\"https://github.com/JuliaLang/julia/tree/2ac304dfba75fad148d4070ef4f8a2e400c305bb/base/range.jl#L534\" target=\"_blank\">range.jl:534</a><li> findin<i>{T1<:Integer,T2<:Integer}</i>(r::<b>Range{T1<:Integer}</b>, span::<b>UnitRange{T2<:Integer}</b>) at <a href=\"https://github.com/JuliaLang/julia/tree/2ac304dfba75fad148d4070ef4f8a2e400c305bb/base/range.jl#L539\" target=\"_blank\">range.jl:539</a><li> findin(a, b::<b>UnitRange{T<:Real}</b>) at <a href=\"https://github.com/JuliaLang/julia/tree/2ac304dfba75fad148d4070ef4f8a2e400c305bb/base/array.jl#L877\" target=\"_blank\">array.jl:877</a><li> findin(x::<b>LastMain.ApApproximation.Frequency{N,T<:Real}</b>, E::<b>LastMain.ApApproximation.BispectralSet{N,T<:Real}</b>) at <a href=\"https://github.com/dprn/ApApproximation.jl/tree/28815e373832b1c86b8da1456f562bc26da9aa1c/src/bispectralset.jl#L207\" target=\"_blank\">/Users/darioprandi/Dropbox/Matematica/Projects/Neuro-Geometria/AP_interpolation/julia/ApApproximation.jl/src/bispectralset.jl:207</a><li> findin(x::<b>ApApproximation.Frequency{N,T<:Real}</b>, E::<b>ApApproximation.BispectralSet{N,T<:Real}</b>) at <a href=\"https://github.com/dprn/ApApproximation.jl/tree/28815e373832b1c86b8da1456f562bc26da9aa1c/src/bispectralset.jl#L207\" target=\"_blank\">/Users/darioprandi/Dropbox/Matematica/Projects/Neuro-Geometria/AP_interpolation/julia/ApApproximation.jl/src/bispectralset.jl:207</a><li> findin(a, b) at <a href=\"https://github.com/JuliaLang/julia/tree/2ac304dfba75fad148d4070ef4f8a2e400c305bb/base/array.jl#L889\" target=\"_blank\">array.jl:889</a></ul>"
      ],
      "text/plain": [
       "# 6 methods for generic function \"findin\":\n",
       "findin{T1<:Integer,T2<:Integer}(r::UnitRange{T1<:Integer}, span::UnitRange{T2<:Integer}) at range.jl:534\n",
       "findin{T1<:Integer,T2<:Integer}(r::Range{T1<:Integer}, span::UnitRange{T2<:Integer}) at range.jl:539\n",
       "findin(a, b::UnitRange{T<:Real}) at array.jl:877\n",
       "findin(x::LastMain.ApApproximation.Frequency{N,T<:Real}, E::LastMain.ApApproximation.BispectralSet{N,T<:Real}) at /Users/darioprandi/Dropbox/Matematica/Projects/Neuro-Geometria/AP_interpolation/julia/ApApproximation.jl/src/bispectralset.jl:207\n",
       "findin(x::ApApproximation.Frequency{N,T<:Real}, E::ApApproximation.BispectralSet{N,T<:Real}) at /Users/darioprandi/Dropbox/Matematica/Projects/Neuro-Geometria/AP_interpolation/julia/ApApproximation.jl/src/bispectralset.jl:207\n",
       "findin(a, b) at array.jl:889"
      ]
     },
     "execution_count": 24,
     "metadata": {},
     "output_type": "execute_result"
    }
   ],
   "source": [
    "methods(findin)"
   ]
  },
  {
   "cell_type": "code",
   "execution_count": 5,
   "metadata": {
    "collapsed": false
   },
   "outputs": [
    {
     "data": {
      "text/plain": [
       "Frequency{10, Float64}(1.0, 3.5)"
      ]
     },
     "execution_count": 5,
     "metadata": {},
     "output_type": "execute_result"
    }
   ],
   "source": [
    "E[1,4]"
   ]
  },
  {
   "cell_type": "code",
   "execution_count": 7,
   "metadata": {
    "collapsed": false
   },
   "outputs": [
    {
     "data": {
      "text/plain": [
       "Frequency{10, Float64}(1.0, 3.5)"
      ]
     },
     "execution_count": 7,
     "metadata": {},
     "output_type": "execute_result"
    }
   ],
   "source": [
    "E[10,1]"
   ]
  },
  {
   "cell_type": "code",
   "execution_count": 6,
   "metadata": {
    "collapsed": false
   },
   "outputs": [
    {
     "data": {
      "text/plain": [
       "Frequency{10, Float64}(1.0, 3.5)"
      ]
     },
     "execution_count": 6,
     "metadata": {},
     "output_type": "execute_result"
    }
   ],
   "source": [
    "E[10]"
   ]
  },
  {
   "cell_type": "code",
   "execution_count": 126,
   "metadata": {
    "collapsed": false
   },
   "outputs": [
    {
     "data": {
      "text/plain": [
       "Frequency{10,Float64}"
      ]
     },
     "execution_count": 126,
     "metadata": {},
     "output_type": "execute_result"
    }
   ],
   "source": [
    "eltype(E)"
   ]
  },
  {
   "cell_type": "code",
   "execution_count": 105,
   "metadata": {
    "collapsed": false
   },
   "outputs": [
    {
     "data": {
      "text/plain": [
       "Frequency{4, Float64}(1.0, 0.0)"
      ]
     },
     "execution_count": 105,
     "metadata": {},
     "output_type": "execute_result"
    }
   ],
   "source": [
    "x = Frequency(1.,2.,4)\n",
    "a = (ω(x) |> opposite)\n",
    "Frequency(λ(x), a)"
   ]
  },
  {
   "cell_type": "code",
   "execution_count": 106,
   "metadata": {
    "collapsed": false
   },
   "outputs": [
    {
     "name": "stdout",
     "output_type": "stream",
     "text": [
      "Frequency{4, Float64}(1.0, 2.0)\n",
      "Frequency{4, Float64}(1.0, 0.0)\n"
     ]
    }
   ],
   "source": [
    "x = Frequency(1.,2.,4) \n",
    "println(x)\n",
    "y = -Frequency(1.,2.,4) \n",
    "println(y)"
   ]
  },
  {
   "cell_type": "code",
   "execution_count": 107,
   "metadata": {
    "collapsed": false
   },
   "outputs": [
    {
     "data": {
      "text/plain": [
       "Frequency{4, Float64}(1.0, 2.0)"
      ]
     },
     "execution_count": 107,
     "metadata": {},
     "output_type": "execute_result"
    }
   ],
   "source": [
    "-y"
   ]
  },
  {
   "cell_type": "code",
   "execution_count": 108,
   "metadata": {
    "collapsed": false
   },
   "outputs": [
    {
     "name": "stdout",
     "output_type": "stream",
     "text": [
      "3.0\n"
     ]
    },
    {
     "data": {
      "text/plain": [
       "Frequency{4, Float64}(0.0, 0.0)"
      ]
     },
     "execution_count": 108,
     "metadata": {},
     "output_type": "execute_result"
    }
   ],
   "source": [
    "*{T<:Real}(x::Frequency, b::T) = Frequency(b*λ(x), ω(x))\n",
    "*{T<:Real}(b::T, x::Frequency) = x*b\n",
    "x+y"
   ]
  },
  {
   "cell_type": "code",
   "execution_count": 109,
   "metadata": {
    "collapsed": false
   },
   "outputs": [
    {
     "data": {
      "text/plain": [
       "+ (generic function with 217 methods)"
      ]
     },
     "execution_count": 109,
     "metadata": {},
     "output_type": "execute_result"
    }
   ],
   "source": [
    "function +(x::Frequency, y::Frequency)\n",
    "    @assert(camembert(x) == camembert(y))\n",
    "    Θ = (value(ω(x)) + slice(x)) + atan2( λ(y)sin(ω(y)-ω(x)), λ(x) + λ(y)cos(ω(y)-ω(x)) )*camembert(x)/(2pi)\n",
    "    ρ = sqrt(abs( λ(x)^2 + λ(y)^2 +2(λ(x)*λ(y))*cos(ω(x)-ω(y))))\n",
    "    Frequency(ρ, Θ, camembert(x))\n",
    "end"
   ]
  },
  {
   "cell_type": "code",
   "execution_count": 144,
   "metadata": {
    "collapsed": false
   },
   "outputs": [
    {
     "data": {
      "text/plain": [
       "± (generic function with 1 method)"
      ]
     },
     "execution_count": 144,
     "metadata": {},
     "output_type": "execute_result"
    }
   ],
   "source": [
    "function ±(a, b)\n",
    "    println(abs(a-b))\n",
    "    abs(a-b)<=.1\n",
    "end"
   ]
  },
  {
   "cell_type": "code",
   "execution_count": 145,
   "metadata": {
    "collapsed": false
   },
   "outputs": [
    {
     "name": "stdout",
     "output_type": "stream",
     "text": [
      "0.10000000000000009\n"
     ]
    },
    {
     "data": {
      "text/plain": [
       "false"
      ]
     },
     "execution_count": 145,
     "metadata": {},
     "output_type": "execute_result"
    }
   ],
   "source": [
    "1. ± 1.1"
   ]
  },
  {
   "cell_type": "code",
   "execution_count": null,
   "metadata": {
    "collapsed": true
   },
   "outputs": [],
   "source": []
  }
 ],
 "metadata": {
  "kernelspec": {
   "display_name": "Julia 0.4.5",
   "language": "julia",
   "name": "julia-0.4"
  },
  "language_info": {
   "file_extension": ".jl",
   "mimetype": "application/julia",
   "name": "julia",
   "version": "0.4.5"
  }
 },
 "nbformat": 4,
 "nbformat_minor": 0
}
